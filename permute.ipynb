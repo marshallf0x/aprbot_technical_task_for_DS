{
 "cells": [
  {
   "cell_type": "markdown",
   "metadata": {},
   "source": [
    "Write a python program that outputs to stdout without repetition all the different permutations of N identical (0) and N different numbers (from 1 to N).\n",
    "Running the program should look like this: \"python permute.py 5\"\n",
    "Let's say for N=5, let it be numbers 0 0 0 0 0 1 2 3 4 5 .\n",
    "Examples of such permutations: 0000012345 or 5012034000\n",
    "Now print all such permutations for N=5 and save them to a file."
   ]
  },
  {
   "cell_type": "code",
   "execution_count": null,
   "metadata": {},
   "outputs": [],
   "source": [
    "from itertools import permutations \n",
    "\n",
    "def sequence_mapping(zeros, nums, sequence, permutation):\n",
    "    if len(sequence) == 2*N:\n",
    "        return [sequence]\n",
    "    else:\n",
    "        seq_list = []\n",
    "        if zeros < N:\n",
    "            seq_list.extend(sequence_mapping(zeros+1, nums, sequence + [0], permutation))\n",
    "        if nums < N:\n",
    "            seq_list.extend(sequence_mapping(zeros, nums+1, sequence + [permutation[nums]], permutation))\n",
    "        return seq_list\n",
    "\n",
    "\n",
    "N = int(input())\n",
    "numbers = [num for num in range(1, N+1)]\n",
    "\n",
    "with open('output.txt', 'w') as file:\n",
    "    for permutation in permutations(numbers, N):\n",
    "        for final_permutation in sequence_mapping(0, 0, [], permutation):\n",
    "            permutation_text = ''.join([str(i) for i in final_permutation])\n",
    "            print(permutation_text)\n",
    "            file.write(''.join([permutation_text,'\\n']))"
   ]
  }
 ],
 "metadata": {
  "kernelspec": {
   "display_name": "Python 3",
   "language": "python",
   "name": "python3"
  },
  "language_info": {
   "codemirror_mode": {
    "name": "ipython",
    "version": 3
   },
   "file_extension": ".py",
   "mimetype": "text/x-python",
   "name": "python",
   "nbconvert_exporter": "python",
   "pygments_lexer": "ipython3",
   "version": "3.8.3"
  },
  "vscode": {
   "interpreter": {
    "hash": "91fa968c256661b32a28988f576489ad39332d35f1a75e94eb7672c06ba2f03c"
   }
  }
 },
 "nbformat": 4,
 "nbformat_minor": 2
}
